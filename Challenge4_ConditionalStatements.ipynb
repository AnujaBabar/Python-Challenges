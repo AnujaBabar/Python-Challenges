{
 "cells": [
  {
   "cell_type": "code",
   "execution_count": null,
   "id": "2f568607",
   "metadata": {},
   "outputs": [],
   "source": [
    "# Exercise 1\n",
    "# Use all the logical operators for x and y values and see if they are True or False\n",
    "x = 4\n",
    "y = 7\n"
   ]
  },
  {
   "cell_type": "code",
   "execution_count": null,
   "id": "5e1e4198",
   "metadata": {},
   "outputs": [],
   "source": [
    "# Exercise 2\n",
    "# Fill in the blank so that the following expression will be True\n",
    "3 __ 4"
   ]
  },
  {
   "cell_type": "code",
   "execution_count": null,
   "id": "ff6f8cea",
   "metadata": {},
   "outputs": [],
   "source": [
    "# Exercise 3\n",
    "# Test whether this expression is True or False and correct it\n",
    "print('shweta' == 'swetha')"
   ]
  },
  {
   "cell_type": "code",
   "execution_count": null,
   "id": "65d257c0",
   "metadata": {},
   "outputs": [],
   "source": [
    "# Exercise 4\n",
    "# Test whether the length of your input string is <, > or = 5 characters\n",
    "#Hint:  use if elif else conditions\n",
    "\n"
   ]
  },
  {
   "cell_type": "code",
   "execution_count": null,
   "id": "15ca235a",
   "metadata": {},
   "outputs": [],
   "source": [
    "# Exercise 5\n",
    "# 1. Check whether person is fully vaccinated or partially vanninated o not vaccinated \n",
    "# 1.1 Solve string mistakes:--> .| , | : | covaxine \n",
    "# 1.2 Add partially vaxinated conditions for all the vaxine types\n",
    "\n",
    "# input: vaccine name and num of doses\n",
    "vaccine=input()\n",
    "num_doses=int(input())\n",
    "\n",
    "# clean string using string manupulation\n",
    "vaccine = vaccine.replace(' ', '') # replace extra spaces\n",
    "vaccine = vaccine.replace('co-vaxin', '') # replace '-'  with nothing\n",
    "vaccine = vaccine.lower() # lower case all the characters in string\n",
    "\n",
    "\n",
    "if vaccine=='covishield' and num_doses==2:\n",
    "    print('Fully vaccinated')\n",
    "elif vaccine=='covaxin' and num_doses==2:\n",
    "    print('Fully vaccinated')\n",
    "elif vaccine=='sputnik' and num_doses==1:\n",
    "    print('Fully vaccinated')\n",
    "else:\n",
    "    print(\"Not fully vaccinated\")"
   ]
  },
  {
   "cell_type": "code",
   "execution_count": null,
   "id": "89f36bda",
   "metadata": {},
   "outputs": [],
   "source": [
    "# Exercise 6\n",
    "# calculate the square of a number if it greater than 5\n"
   ]
  },
  {
   "cell_type": "code",
   "execution_count": null,
   "id": "38a76dc5",
   "metadata": {},
   "outputs": [],
   "source": []
  }
 ],
 "metadata": {
  "kernelspec": {
   "display_name": "Python 3 (ipykernel)",
   "language": "python",
   "name": "python3"
  },
  "language_info": {
   "codemirror_mode": {
    "name": "ipython",
    "version": 3
   },
   "file_extension": ".py",
   "mimetype": "text/x-python",
   "name": "python",
   "nbconvert_exporter": "python",
   "pygments_lexer": "ipython3",
   "version": "3.9.12"
  }
 },
 "nbformat": 4,
 "nbformat_minor": 5
}
