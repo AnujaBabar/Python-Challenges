{
 "cells": [
  {
   "cell_type": "markdown",
   "id": "4b836570",
   "metadata": {},
   "source": [
    "1. Print a string that uses double quotation marks inside the string."
   ]
  },
  {
   "cell_type": "code",
   "execution_count": null,
   "id": "fb0f97ac",
   "metadata": {},
   "outputs": [],
   "source": []
  },
  {
   "cell_type": "markdown",
   "id": "f4e70e29",
   "metadata": {},
   "source": [
    "2. Print a string that uses an apostrophe inside the string."
   ]
  },
  {
   "cell_type": "code",
   "execution_count": null,
   "id": "cb1c6fd6",
   "metadata": {},
   "outputs": [],
   "source": []
  },
  {
   "cell_type": "markdown",
   "id": "b8fb902c",
   "metadata": {},
   "source": [
    "3. Print a string that spans multiple lines with whitespace preserved."
   ]
  },
  {
   "cell_type": "code",
   "execution_count": null,
   "id": "900cc2a1",
   "metadata": {},
   "outputs": [],
   "source": []
  },
  {
   "cell_type": "markdown",
   "id": "dd59083c",
   "metadata": {},
   "source": [
    "4. Print a string that is coded on multiple lines but gets printed on a single line."
   ]
  },
  {
   "cell_type": "code",
   "execution_count": null,
   "id": "b87de996",
   "metadata": {},
   "outputs": [],
   "source": [
    "# 5. correct following python code\n",
    "mystr = \"My favourite TV Series is \"Game of Thrones\"\""
   ]
  },
  {
   "cell_type": "code",
   "execution_count": null,
   "id": "11ac6b51",
   "metadata": {},
   "outputs": [],
   "source": []
  }
 ],
 "metadata": {
  "kernelspec": {
   "display_name": "Python 3 (ipykernel)",
   "language": "python",
   "name": "python3"
  },
  "language_info": {
   "codemirror_mode": {
    "name": "ipython",
    "version": 3
   },
   "file_extension": ".py",
   "mimetype": "text/x-python",
   "name": "python",
   "nbconvert_exporter": "python",
   "pygments_lexer": "ipython3",
   "version": "3.9.12"
  }
 },
 "nbformat": 4,
 "nbformat_minor": 5
}
