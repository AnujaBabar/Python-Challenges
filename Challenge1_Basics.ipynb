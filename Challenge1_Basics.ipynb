{
 "cells": [
  {
   "cell_type": "markdown",
   "id": "e98a06aa",
   "metadata": {},
   "source": [
    "## 1. Why python is popular in data science? \n",
    "\n",
    "Note: create new markdown and write your answer in markdown"
   ]
  },
  {
   "cell_type": "code",
   "execution_count": null,
   "id": "b2ed8d11",
   "metadata": {},
   "outputs": [],
   "source": []
  },
  {
   "cell_type": "markdown",
   "id": "53991148",
   "metadata": {},
   "source": [
    "## 2. print your name in python"
   ]
  },
  {
   "cell_type": "code",
   "execution_count": null,
   "id": "c0347e7e",
   "metadata": {},
   "outputs": [],
   "source": []
  },
  {
   "cell_type": "markdown",
   "id": "3ca2388c",
   "metadata": {},
   "source": [
    "## 3. Correct the following python line  "
   ]
  },
  {
   "cell_type": "code",
   "execution_count": null,
   "id": "cf33e9b7",
   "metadata": {},
   "outputs": [],
   "source": [
    "print(\"Hi)"
   ]
  },
  {
   "cell_type": "markdown",
   "id": "efda1589",
   "metadata": {},
   "source": [
    "## 4. fill the black in the following python line , replace ___ with python in-built function"
   ]
  },
  {
   "cell_type": "code",
   "execution_count": null,
   "id": "62ffcb43",
   "metadata": {},
   "outputs": [],
   "source": [
    "___(\"Hi)"
   ]
  },
  {
   "cell_type": "markdown",
   "id": "db42dc6d",
   "metadata": {},
   "source": [
    "## 5. add single line comments in the follwing line"
   ]
  },
  {
   "cell_type": "code",
   "execution_count": null,
   "id": "bd350525",
   "metadata": {},
   "outputs": [],
   "source": [
    "this is comment "
   ]
  },
  {
   "cell_type": "markdown",
   "id": "bde9dd2c",
   "metadata": {},
   "source": [
    "## 6. add multiple comments in the follwing line"
   ]
  },
  {
   "cell_type": "code",
   "execution_count": null,
   "id": "872564a0",
   "metadata": {},
   "outputs": [],
   "source": [
    "this is python ide\n",
    "you can write code and create markdwon using this ide\n",
    "you can store input and output as it is in this ide"
   ]
  },
  {
   "cell_type": "markdown",
   "id": "7752320a",
   "metadata": {},
   "source": [
    "## 7. Do the addition of any two numbers and display the output"
   ]
  },
  {
   "cell_type": "code",
   "execution_count": null,
   "id": "4478a646",
   "metadata": {},
   "outputs": [],
   "source": []
  },
  {
   "cell_type": "markdown",
   "id": "4d0b876f",
   "metadata": {},
   "source": [
    "## 8. Correct the following python code"
   ]
  },
  {
   "cell_type": "code",
   "execution_count": null,
   "id": "b101a7fa",
   "metadata": {},
   "outputs": [],
   "source": [
    "2my-first_number = 10"
   ]
  },
  {
   "cell_type": "markdown",
   "id": "f3482287",
   "metadata": {},
   "source": [
    "## 9. create new variable named- `myvar` and assign string value `value`"
   ]
  },
  {
   "cell_type": "code",
   "execution_count": null,
   "id": "c9280ef8",
   "metadata": {},
   "outputs": [],
   "source": []
  },
  {
   "cell_type": "markdown",
   "id": "f4e8bc45",
   "metadata": {},
   "source": [
    "## 10. create new variable named- `my_number` and assign int value `17`"
   ]
  },
  {
   "cell_type": "code",
   "execution_count": null,
   "id": "f0fb93af",
   "metadata": {},
   "outputs": [],
   "source": []
  },
  {
   "cell_type": "markdown",
   "id": "0ca59d90",
   "metadata": {},
   "source": [
    "## 11. Display/print the sum of 5 + 10, using two variables: x and y."
   ]
  },
  {
   "cell_type": "code",
   "execution_count": null,
   "id": "6b68686a",
   "metadata": {},
   "outputs": [],
   "source": [
    "x = ___\n",
    "y = 10\n",
    "print(___)"
   ]
  },
  {
   "cell_type": "markdown",
   "id": "88d5e54c",
   "metadata": {},
   "source": [
    "## 12. Create a variable called z, assign a + b to it, and display the result."
   ]
  },
  {
   "cell_type": "code",
   "execution_count": null,
   "id": "5afa9288",
   "metadata": {},
   "outputs": [],
   "source": [
    "a = 5\n",
    "b = 10\n",
    "___ = x + y\n",
    "print(___)"
   ]
  },
  {
   "cell_type": "markdown",
   "id": "b0bb019c",
   "metadata": {},
   "source": [
    "## 13. Insert the correct syntax to assign the same value to all three variables in one code line. and display the values of `a` , `b` and `c`"
   ]
  },
  {
   "cell_type": "code",
   "execution_count": null,
   "id": "95f419de",
   "metadata": {},
   "outputs": [],
   "source": [
    "a __ b __ c __  \"Orange\"\n",
    "\n",
    "print(__ , __ , __)"
   ]
  },
  {
   "cell_type": "code",
   "execution_count": null,
   "id": "d9831614",
   "metadata": {},
   "outputs": [],
   "source": []
  }
 ],
 "metadata": {
  "kernelspec": {
   "display_name": "Python 3 (ipykernel)",
   "language": "python",
   "name": "python3"
  },
  "language_info": {
   "codemirror_mode": {
    "name": "ipython",
    "version": 3
   },
   "file_extension": ".py",
   "mimetype": "text/x-python",
   "name": "python",
   "nbconvert_exporter": "python",
   "pygments_lexer": "ipython3",
   "version": "3.9.12"
  }
 },
 "nbformat": 4,
 "nbformat_minor": 5
}
