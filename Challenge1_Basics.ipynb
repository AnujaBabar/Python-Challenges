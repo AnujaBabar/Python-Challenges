{
 "cells": [
  {
   "cell_type": "markdown",
   "id": "e98a06aa",
   "metadata": {},
   "source": [
    "1. Why python is popular in data science? \n",
    "\n",
    "Note: create new markdown and write your answer in markdown"
   ]
  },
  {
   "cell_type": "code",
   "execution_count": null,
   "id": "b2ed8d11",
   "metadata": {},
   "outputs": [],
   "source": []
  },
  {
   "cell_type": "markdown",
   "id": "53991148",
   "metadata": {},
   "source": [
    "2. print your name in python"
   ]
  },
  {
   "cell_type": "code",
   "execution_count": null,
   "id": "c0347e7e",
   "metadata": {},
   "outputs": [],
   "source": []
  },
  {
   "cell_type": "code",
   "execution_count": null,
   "id": "cf33e9b7",
   "metadata": {},
   "outputs": [],
   "source": [
    "# 3. Correct the following python line  \n",
    "print(\"Hi)"
   ]
  },
  {
   "cell_type": "markdown",
   "id": "7752320a",
   "metadata": {},
   "source": [
    "4. Do the addition of any two numbers and display the output"
   ]
  },
  {
   "cell_type": "code",
   "execution_count": null,
   "id": "4478a646",
   "metadata": {},
   "outputs": [],
   "source": []
  },
  {
   "cell_type": "code",
   "execution_count": null,
   "id": "b101a7fa",
   "metadata": {},
   "outputs": [],
   "source": [
    "#5. Correct the following python code\n",
    "1var = 10 "
   ]
  },
  {
   "cell_type": "code",
   "execution_count": null,
   "id": "da98a0aa",
   "metadata": {},
   "outputs": [],
   "source": []
  }
 ],
 "metadata": {
  "kernelspec": {
   "display_name": "Python 3 (ipykernel)",
   "language": "python",
   "name": "python3"
  },
  "language_info": {
   "codemirror_mode": {
    "name": "ipython",
    "version": 3
   },
   "file_extension": ".py",
   "mimetype": "text/x-python",
   "name": "python",
   "nbconvert_exporter": "python",
   "pygments_lexer": "ipython3",
   "version": "3.9.12"
  }
 },
 "nbformat": 4,
 "nbformat_minor": 5
}
