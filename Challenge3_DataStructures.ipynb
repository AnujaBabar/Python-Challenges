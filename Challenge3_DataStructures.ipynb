{
 "cells": [
  {
   "cell_type": "code",
   "execution_count": null,
   "id": "080f321b",
   "metadata": {},
   "outputs": [],
   "source": [
    "# Exercise 1\n",
    "# Create a tuple of 3 names: \"john\", \"sia\" and \"ria\"\n"
   ]
  },
  {
   "cell_type": "code",
   "execution_count": null,
   "id": "fcc0cdef",
   "metadata": {},
   "outputs": [],
   "source": [
    "# Exercise 2\n",
    "# Display the second object in the tuple\n"
   ]
  },
  {
   "cell_type": "code",
   "execution_count": null,
   "id": "87c69baf",
   "metadata": {},
   "outputs": [],
   "source": [
    "# Exercise 3\n",
    "# Create a tuple containing the letters of your name from a string\n"
   ]
  },
  {
   "cell_type": "code",
   "execution_count": null,
   "id": "856113b4",
   "metadata": {},
   "outputs": [],
   "source": [
    "# Exercise 4\n",
    "# Create a list of 3 names: \"john\", \"sia\" and \"ria\"\n"
   ]
  },
  {
   "cell_type": "code",
   "execution_count": null,
   "id": "dee194c0",
   "metadata": {},
   "outputs": [],
   "source": [
    "# Exercise 5\n",
    "# Append the string \"elena\" to the names list using .append()\n"
   ]
  },
  {
   "cell_type": "code",
   "execution_count": null,
   "id": "11074aee",
   "metadata": {},
   "outputs": [],
   "source": [
    "# Exercise 6\n",
    "# Print the last item in names list\n"
   ]
  },
  {
   "cell_type": "code",
   "execution_count": null,
   "id": "72011b93",
   "metadata": {},
   "outputs": [],
   "source": [
    "# Exercise 7\n",
    "# check 'john' name's length using len()\n"
   ]
  },
  {
   "cell_type": "code",
   "execution_count": null,
   "id": "feb5c531",
   "metadata": {},
   "outputs": [],
   "source": [
    "# Exercise 8\n",
    "# Create an empty dictionary\n"
   ]
  },
  {
   "cell_type": "code",
   "execution_count": null,
   "id": "ecf6428f",
   "metadata": {},
   "outputs": [],
   "source": [
    "# Exercise 9\n",
    "# Add some key-value pairs to the dictionary\n"
   ]
  }
 ],
 "metadata": {
  "kernelspec": {
   "display_name": "Python 3 (ipykernel)",
   "language": "python",
   "name": "python3"
  },
  "language_info": {
   "codemirror_mode": {
    "name": "ipython",
    "version": 3
   },
   "file_extension": ".py",
   "mimetype": "text/x-python",
   "name": "python",
   "nbconvert_exporter": "python",
   "pygments_lexer": "ipython3",
   "version": "3.9.12"
  }
 },
 "nbformat": 4,
 "nbformat_minor": 5
}
